{
 "cells": [
  {
   "cell_type": "code",
   "execution_count": 3,
   "metadata": {},
   "outputs": [
    {
     "name": "stdout",
     "output_type": "stream",
     "text": [
      "Vietnamese to English:\n",
      "Xin chào, bạn khỏe không? -> Hello, how are you?\n",
      "Hôm nay là một ngày đẹp trời. -> It's a beautiful day.\n",
      "Tôi thích nghe nhạc và ăn uống. -> I like to listen to music and eat.\n",
      "\n",
      "English to Vietnamese:\n",
      "Hello, how are you? -> Chào, anh khoẻ không?\n",
      "It's a beautiful day. -> Một ngày đẹp trời.\n",
      "I like to listen to music and eat. -> Tôi thích nghe nhạc và ăn uống.\n",
      "\n",
      "Health check: {'status': 'healthy'}\n"
     ]
    }
   ],
   "source": [
    "import requests\n",
    "import json\n",
    "\n",
    "BASE_URL = \"http://localhost:8094\"\n",
    "\n",
    "# Test Việt -> Anh\n",
    "vi_texts = [\n",
    "    \"Xin chào, bạn khỏe không?\",\n",
    "    \"Hôm nay là một ngày đẹp trời.\",\n",
    "    \"Tôi thích nghe nhạc và ăn uống.\"\n",
    "]\n",
    "\n",
    "response = requests.post(\n",
    "    f\"{BASE_URL}/vi2en\",\n",
    "    json={\"texts\": vi_texts}\n",
    ")\n",
    "\n",
    "if response.status_code == 200:\n",
    "    translations = response.json()\n",
    "    print(\"Vietnamese to English:\")\n",
    "    for orig, trans in zip(vi_texts, translations):\n",
    "        print(f\"{orig} -> {trans}\")\n",
    "else:\n",
    "    print(f\"Error: {response.status_code} - {response.text}\")\n",
    "\n",
    "# Test Anh -> Việt\n",
    "en_texts = [\n",
    "    \"Hello, how are you?\",\n",
    "    \"It's a beautiful day.\",\n",
    "    \"I like to listen to music and eat.\"\n",
    "]\n",
    "\n",
    "response = requests.post(\n",
    "    f\"{BASE_URL}/en2vi\",\n",
    "    json={\"texts\": en_texts}\n",
    ")\n",
    "\n",
    "if response.status_code == 200:\n",
    "    translations = response.json()\n",
    "    print(\"\\nEnglish to Vietnamese:\")\n",
    "    for orig, trans in zip(en_texts, translations):\n",
    "        print(f\"{orig} -> {trans}\")\n",
    "else:\n",
    "    print(f\"Error: {response.status_code} - {response.text}\")\n",
    "\n",
    "# Test health check\n",
    "response = requests.get(f\"{BASE_URL}/health\")\n",
    "print(f\"\\nHealth check: {response.json()}\")"
   ]
  },
  {
   "cell_type": "code",
   "execution_count": null,
   "metadata": {},
   "outputs": [],
   "source": []
  },
  {
   "cell_type": "code",
   "execution_count": null,
   "metadata": {},
   "outputs": [],
   "source": []
  },
  {
   "cell_type": "code",
   "execution_count": null,
   "metadata": {},
   "outputs": [],
   "source": []
  },
  {
   "cell_type": "code",
   "execution_count": null,
   "metadata": {},
   "outputs": [],
   "source": []
  },
  {
   "cell_type": "code",
   "execution_count": 8,
   "metadata": {},
   "outputs": [
    {
     "name": "stdout",
     "output_type": "stream",
     "text": [
      "Dịch từ tiếng Việt sang tiếng Anh:\n",
      "Input: Cô cho biết: trước giờ tôi không đến phòng tập công cộng, mà tập cùng giáo viên Yoga riêng hoặc tự tập ở nhà.\n",
      "Output: She said: I haven't been to a public gym before, but with my own yoga teacher or at home.\n",
      "\n"
     ]
    }
   ],
   "source": [
    "import requests\n",
    "import time\n",
    "\n",
    "# URL của API\n",
    "BASE_URL = \"https://ade9-103-52-112-166.ngrok-free.app\"\n",
    "\n",
    "# 1. Dịch từ tiếng Việt sang tiếng Anh\n",
    "vi_text = \"Cô cho biết: trước giờ tôi không đến phòng tập công cộng, mà tập cùng giáo viên Yoga riêng hoặc tự tập ở nhà.\"\n",
    "payload = {\"text\": vi_text}\n",
    "response = requests.post(f\"{BASE_URL}/translate/vi2en\", json=payload)\n",
    "\n",
    "if response.status_code == 200:\n",
    "    result = response.json()\n",
    "    print(\"Dịch từ tiếng Việt sang tiếng Anh:\")\n",
    "    print(f\"Input: {vi_text}\")\n",
    "    print(f\"Output: {result['translated_text']}\\n\")\n",
    "else:\n",
    "    print(f\"Lỗi: {response.status_code} - {response.text}\")\n"
   ]
  },
  {
   "cell_type": "code",
   "execution_count": 9,
   "metadata": {},
   "outputs": [
    {
     "name": "stdout",
     "output_type": "stream",
     "text": [
      "Dịch từ tiếng Anh sang tiếng Việt:\n",
      "Input: I haven't been to a public gym before. When I exercise in a private space, I feel more comfortable.\n",
      "Output: Tôi chưa từng đến phòng tập thể dục công cộng trước đây. Khi tôi tập thể dục trong một không gian riêng tư, tôi cảm thấy thoải mái hơn.\n"
     ]
    }
   ],
   "source": [
    "\n",
    "# 2. Dịch từ tiếng Anh sang tiếng Việt\n",
    "en_text = \"I haven't been to a public gym before. When I exercise in a private space, I feel more comfortable.\"\n",
    "payload = {\"text\": en_text}\n",
    "response = requests.post(f\"{BASE_URL}/translate/en2vi\", json=payload)\n",
    "\n",
    "if response.status_code == 200:\n",
    "    result = response.json()\n",
    "    print(\"Dịch từ tiếng Anh sang tiếng Việt:\")\n",
    "    print(f\"Input: {en_text}\")\n",
    "    print(f\"Output: {result['translated_text']}\")\n",
    "else:\n",
    "    print(f\"Lỗi: {response.status_code} - {response.text}\")"
   ]
  },
  {
   "cell_type": "code",
   "execution_count": null,
   "metadata": {},
   "outputs": [],
   "source": []
  }
 ],
 "metadata": {
  "kernelspec": {
   "display_name": "cb",
   "language": "python",
   "name": "python3"
  },
  "language_info": {
   "codemirror_mode": {
    "name": "ipython",
    "version": 3
   },
   "file_extension": ".py",
   "mimetype": "text/x-python",
   "name": "python",
   "nbconvert_exporter": "python",
   "pygments_lexer": "ipython3",
   "version": "3.8.10"
  }
 },
 "nbformat": 4,
 "nbformat_minor": 2
}
